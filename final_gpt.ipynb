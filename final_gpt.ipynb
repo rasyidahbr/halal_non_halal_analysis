{
 "cells": [
  {
   "cell_type": "markdown",
   "id": "884297d4-6d94-4c82-8740-87904df488f1",
   "metadata": {},
   "source": [
    "# Automated Halal Product Identification through Ingredient Analysis\n",
    "\n",
    "## Problem statement:\n",
    "\n",
    "Develop an automated system to determine whether food products are halal or not by analyzing and interpreting their ingredients, particularly when purchasing products overseas.\n",
    "\n",
    "## Objective\n",
    "\n",
    "- Create a model that can classify food products as halal, not halal, or of uncertain status based on their ingredient lists.\n",
    "    - Uncertain ingredients will then be checked through OpenAI to determine if the ingredients are halal.\n",
    "\n",
    "- Enhancing the ability of consumers, especially Muslims, to make informed choices when purchasing food items abroad.\n",
    "\n"
   ]
  },
  {
   "cell_type": "markdown",
   "id": "21e9f1d9-1a58-4111-b07a-2a5dcf1d7127",
   "metadata": {},
   "source": [
    "## Import libraries "
   ]
  },
  {
   "cell_type": "code",
   "execution_count": 1,
   "id": "f1908908-061c-4176-9adf-f24c8fc5446b",
   "metadata": {},
   "outputs": [
    {
     "name": "stdout",
     "output_type": "stream",
     "text": [
      "CPU times: total: 31.2 ms\n",
      "Wall time: 908 ms\n"
     ]
    }
   ],
   "source": [
    "%%time\n",
    "import base64\n",
    "import requests\n",
    "import pandas as pd\n",
    "import re\n",
    "import toml\n",
    "import openai"
   ]
  },
  {
   "cell_type": "markdown",
   "id": "991d257a-845d-4cec-8d6f-4bef8bcecc0a",
   "metadata": {},
   "source": [
    "## Import ingredients file needed for the analysis\n",
    "\n",
    "- the ingredient list is consolidated from:-\n",
    "    - [the MUIS Food Additive List](https://www.muis.gov.sg/-/media/Files/Halal/Documents/FOOD-ADDITIVE-LISTING-5.ashx)\n",
    "    - [World of Islam Food Numbers](https://special.worldofislam.info/Food/numbers.html)\n",
    "    - [Islamcan.com](https://islamcan.com/blog/2020/01/halal-and-haram-ingredient-database/)\n",
    "    \n",
    "    "
   ]
  },
  {
   "cell_type": "markdown",
   "id": "6513c11f-8c53-4079-a6ef-a26e372a2b84",
   "metadata": {
    "tags": []
   },
   "source": [
    "### Data Dictionary\n",
    "\n",
    "| Column Name               | Description                                                                                               |\n",
    "|---------------------------|-----------------------------------------------------------------------------------------------------------|\n",
    "| `ingred_name`             | Code or short identifier for each ingredient.                                                             |\n",
    "| `chem_name`               | The chemical name of the ingredient.                                                                      |\n",
    "| `description`             | A brief description of the ingredient, indicating its use or properties.                                 |\n",
    "| `halal_non_halal_doubtful` | Numerical value indicating the halal status: 0 for Halal, 1 for Non-Halal, 2 for Doubtful.               |\n"
   ]
  },
  {
   "cell_type": "code",
   "execution_count": 2,
   "id": "69a177be-0b64-4897-a18d-5adad47ced20",
   "metadata": {
    "tags": []
   },
   "outputs": [],
   "source": [
    "df = pd.read_csv('./data/halal_non_halal_ingred.csv')\n",
    "\n",
    "# Convert all string columns to lowercase and remove spaces\n",
    "for col in df.columns:\n",
    "    if df[col].dtype == 'object':  # Check if the column is of string type\n",
    "        df[col] = df[col].str.lower()"
   ]
  },
  {
   "cell_type": "markdown",
   "id": "cd13be15-1282-47d2-b796-85c3e8a7b723",
   "metadata": {},
   "source": [
    "## Halal Status Determination Code Summary\n",
    "\n",
    "### Function: `create_lookup_table(df)`\n",
    "- **Purpose**: Creates a lookup table from a DataFrame.\n",
    "- **Process**:\n",
    "  - Selects relevant columns.\n",
    "  - Converts DataFrame to a dictionary using `ingred_name` as the key.\n",
    "\n",
    "### Function: `parse_ingredients(ingredients_text)`\n",
    "- **Purpose**: Normalizes and parses the ingredient text.\n",
    "- **Process**:\n",
    "  - Converts text to lowercase.\n",
    "  - Replaces and removes certain characters and phrases.\n",
    "  - Splits text based on commas outside parentheses.\n",
    "  - Strips whitespace and returns a list of ingredients.\n",
    "\n",
    "### Function: `check_halal_status(ingredients, lookup_table)`\n",
    "- **Purpose**: Determines the Halal status of a product based on its ingredients.\n",
    "- **Process**:\n",
    "  - Initializes default product status as 'Halal'.\n",
    "  - Iterates through ingredients to check their status in the lookup table.\n",
    "  - Updates product status to 'Non-Halal' or 'Doubtful' based on ingredient status.\n",
    "  - Returns a tuple with the product's Halal status and a list of unknown ingredients.\n"
   ]
  },
  {
   "cell_type": "code",
   "execution_count": 3,
   "id": "30e8bdec-6eb8-46c0-a0d3-0eb4b07f24ec",
   "metadata": {
    "tags": []
   },
   "outputs": [
    {
     "name": "stdout",
     "output_type": "stream",
     "text": [
      "CPU times: total: 0 ns\n",
      "Wall time: 0 ns\n"
     ]
    }
   ],
   "source": [
    "%%time\n",
    "\n",
    "# Function to create a lookup table from the pre-processed DataFrame\n",
    "def create_lookup_table(df):\n",
    "    # Use only required columns and create a dictionary for lookup\n",
    "    lookup_table = df.set_index('ingred_name')['halal_non_halal_doubtful'].to_dict()\n",
    "    return lookup_table\n",
    "\n",
    "\n",
    "def parse_ingredients(ingredients_text):\n",
    "    # Normalize the text\n",
    "    ingredients_text = ingredients_text.lower().replace(\"[\", \"(\").replace(\"]\", \")\")\n",
    "    \n",
    "    # Remove newline characters\n",
    "    ingredients_text = ingredients_text.replace(\"\\n\", \",\")\n",
    "\n",
    "    # Remove the portion starting from \"allergen information:\"\n",
    "    ingredients_text = re.sub(r'allergen information:.*|allergen information.*', '', ingredients_text)\n",
    "    \n",
    "    # Replace specific phrases\n",
    "    phrases_to_remove = [\"the ingredients listed in the image are:\\n\\n\", \"ingredients:\", 'the ingredients listed on the image', \n",
    "                         \"here are the ingredients as listed on the image:\\n\\n \", \"here are the ingredients as listed on the image: \", \"are as follows:  -\",\n",
    "                        \"the ingredients listed on the image are as follows:\\n\\n \", \"are as follows:\", \"are:\", \"the ingredients listed\", \n",
    "                         \"the image shows a list of ingredients\", \"which includes items like\", \n",
    "                         \"the list is a typical example of ingredients you might find on the packaging of a processed food product\",\n",
    "                         \"and it provides important information for consumers about what is in the product as well as potential allergens they should be aware of\",\n",
    "                        \"the text also mentions\",\"here are the ingredients exactly as they appear in the image:\", \"sure\", \n",
    "                        \"here is the list of ingredients exactly as they appear in the image:\", \"in the image\", \"the ingredients  are listed as follows:\", \"on the packaging\"]\n",
    "    \n",
    "    for phrase in phrases_to_remove:\n",
    "        ingredients_text = ingredients_text.replace(phrase, \"\")\n",
    "\n",
    "    # Replace remaining \"\\n\" with \", \"\n",
    "    ingredients_text = ingredients_text.replace(\"\\n\", \"\")\n",
    "        \n",
    "    # Replace semicolons with commas\n",
    "    ingredients_text = ingredients_text.replace(';', ',')\n",
    "    \n",
    "    # Remove a full stop at the end if it exists\n",
    "    ingredients_text = ingredients_text.rstrip('.')\n",
    "    \n",
    "    # Replace remaining \"-\" with \", \"\n",
    "    ingredients_text = ingredients_text.replace(\"-\", \"\")\n",
    "    \n",
    "    # Remove any periods ('.')\n",
    "    ingredients_text = ingredients_text.replace('.', '')\n",
    "    \n",
    "    # Split based on commas not within parentheses\n",
    "    ingredients = re.split(r',\\s*(?![^()]*\\))', ingredients_text)\n",
    "    \n",
    "    # Strip whitespace from each ingredient\n",
    "    parsed_ingredients = [ingredient.strip() for ingredient in ingredients if ingredient.strip()]\n",
    "    return parsed_ingredients\n",
    "\n",
    "\n",
    "def check_halal_status(ingredients, lookup_table):\n",
    "    product_halal_status = 'Halal'  # Default status\n",
    "    unknown_ingredients = []\n",
    "\n",
    "    for ingredient in ingredients:\n",
    "        ingredient_lower = ingredient.lower()\n",
    "\n",
    "        # Check the Halal status from the lookup table\n",
    "        status = lookup_table.get(ingredient_lower, \"Unknown\")\n",
    "\n",
    "        if status == 'Non-Halal' or status == 'Doubtful':  # Non-halal or doubtful\n",
    "            product_halal_status = 'Non-Halal'\n",
    "        elif status == \"Unknown\":\n",
    "            product_halal_status = 'Doubtful'\n",
    "            unknown_ingredients.append(ingredient)\n",
    "\n",
    "    # Return a tuple: product status and list of unknown ingredients\n",
    "    return product_halal_status, unknown_ingredients"
   ]
  },
  {
   "cell_type": "markdown",
   "id": "2adf6bfb-7889-43ab-a5d4-2252358b295a",
   "metadata": {},
   "source": [
    "## Configuration Loading for OpenAI API Key\n",
    "\n",
    "- **Purpose**: Loads the OpenAI API key from a TOML configuration file. \n",
    "    - so your api key is safe"
   ]
  },
  {
   "cell_type": "code",
   "execution_count": 4,
   "id": "701d8305-91d5-4a18-b93e-a9b69571f85b",
   "metadata": {
    "tags": []
   },
   "outputs": [
    {
     "name": "stdout",
     "output_type": "stream",
     "text": [
      "CPU times: total: 0 ns\n",
      "Wall time: 1 ms\n"
     ]
    }
   ],
   "source": [
    "%%time\n",
    "\n",
    "with open('secrets.toml', 'r') as f:\n",
    "    config = toml.load(f)\n",
    "\n",
    "# Set OpenAI API key through the streamlit app's secrets\n",
    "openai.api_key = config['api']['openai_key'] \n"
   ]
  },
  {
   "cell_type": "markdown",
   "id": "e7f16e7b-95e9-439c-ac90-fc594dd3c18c",
   "metadata": {
    "tags": []
   },
   "source": [
    "## Chat Completions with Open AI\n",
    "\n",
    "- for more information, refer here: https://platform.openai.com/docs/guides/text-generation/chat-completions-api\n",
    "\n",
    "### Function: `is_halal(ingredient_list, headers)`\n",
    "\n",
    "- Determines if a given list of ingredients is halal using the OpenAI API gpt-3.5-turbo\n"
   ]
  },
  {
   "cell_type": "code",
   "execution_count": 5,
   "id": "a305b7c8-365a-4b1d-9b8d-e7ec8e71735f",
   "metadata": {},
   "outputs": [
    {
     "name": "stdout",
     "output_type": "stream",
     "text": [
      "CPU times: total: 0 ns\n",
      "Wall time: 0 ns\n"
     ]
    }
   ],
   "source": [
    "%%time\n",
    "\n",
    "def is_halal(ingredient_list, headers):\n",
    "    payload = {\n",
    "        \"model\": \"gpt-3.5-turbo\",  # You can choose your preferred model\n",
    "        \"messages\": [\n",
    "            {\"role\": \"system\", \"content\": \"You are a helpful assistant that provides information.\"},\n",
    "            {\"role\": \"user\", \"content\": f\"Determine if the ingredients in '{ingredient_list}' are halal.\"}\n",
    "        ]\n",
    "    }\n",
    "\n",
    "    try:\n",
    "        response = requests.post(\"https://api.openai.com/v1/chat/completions\", headers=headers, json=payload)\n",
    "        response.raise_for_status()  # This will raise an exception for HTTP errors\n",
    "        return response.json()['choices'][0]['message']['content']\n",
    "    except requests.RequestException as e:\n",
    "        return f\"An error occurred: {e}\""
   ]
  },
  {
   "cell_type": "markdown",
   "id": "e3b4471f-e29e-42e6-8e32-c1f7e3eda94a",
   "metadata": {
    "tags": []
   },
   "source": [
    "## Reading text from images using Vision API from Open AI\n",
    "\n",
    "- GPT-4 with Vision, sometimes referred to as GPT-4V or gpt-4-vision-preview in the API, allows the model to take in images and answer questions about them.\n",
    "- for more information, refer here: https://platform.openai.com/docs/guides/vision"
   ]
  },
  {
   "cell_type": "code",
   "execution_count": 6,
   "id": "5d9cb4d8-2cb3-48b7-a48a-70272e6e083a",
   "metadata": {},
   "outputs": [],
   "source": [
    "# Path to your image\n",
    "image_path = \"./ingredient_picture/hersheys.jpg\""
   ]
  },
  {
   "cell_type": "code",
   "execution_count": 7,
   "id": "29cd2e85-198d-447e-8f2c-13da3c2b5182",
   "metadata": {},
   "outputs": [],
   "source": [
    "\n",
    "# Function to encode the image to base64\n",
    "def encode_image(image_path):\n",
    "    try:\n",
    "        with open(image_path, \"rb\") as image_file:\n",
    "            return base64.b64encode(image_file.read()).decode('utf-8')\n",
    "    except IOError as e:\n",
    "        return f\"An error occurred while reading the file: {e}\""
   ]
  },
  {
   "cell_type": "code",
   "execution_count": 8,
   "id": "a86b3de1-e12a-452b-8b34-ab4b59d43419",
   "metadata": {},
   "outputs": [
    {
     "name": "stdout",
     "output_type": "stream",
     "text": [
      "CPU times: total: 15.6 ms\n",
      "Wall time: 5.6 s\n"
     ]
    }
   ],
   "source": [
    "%%time\n",
    "\n",
    "# Getting the base64 string\n",
    "base64_image = encode_image(image_path)\n",
    "\n",
    "# Make sure to replace {api_key} with your actual API key\n",
    "headers = {\n",
    "    \"Content-Type\": \"application/json\",\n",
    "    \"Authorization\": f\"Bearer {openai.api_key}\"  # Replace with your actual API key\n",
    "}\n",
    "\n",
    "# Payload for the request\n",
    "payload = {\n",
    "    \"model\": \"gpt-4-vision-preview\",\n",
    "    \"messages\": [\n",
    "        {\n",
    "            \"role\": \"user\",\n",
    "            \"content\": [\n",
    "                {\n",
    "                    \"type\": \"text\",\n",
    "                    \"text\": \"Please provide a list of the ingredients exactly as they appear in the image.\"\n",
    "                },\n",
    "                {\n",
    "                    \"type\": \"image_url\",\n",
    "                    \"image_url\": {\n",
    "                        \"url\": f\"data:image/jpeg;base64,{base64_image}\"\n",
    "                    }\n",
    "                }\n",
    "            ]\n",
    "        }\n",
    "    ],\n",
    "    \"max_tokens\": 800\n",
    "}\n",
    "\n",
    "# Make the API request to OpenAI\n",
    "response = requests.post(\"https://api.openai.com/v1/chat/completions\", headers=headers, json=payload)"
   ]
  },
  {
   "cell_type": "markdown",
   "id": "1b3ed88d-e706-4e83-8f49-c7f6108f9a19",
   "metadata": {},
   "source": [
    "## Halal Status Determination Process\n",
    "\n",
    "- **Response Validation**: Checks if the HTTP response is successful (status code 200).\n",
    "- **Data Extraction and Parsing**: Extracts ingredient text from the response and parses it into a list.\n",
    "- **Lookup Table Creation**: Generates a lookup table for ingredient statuses from a DataFrame.\n",
    "- **Halal Status Check**: Determines the overall Halal status of the product.\n",
    "- **Handling Unknown Ingredients**:\n",
    "  - Lists unknown ingredients, if any.\n",
    "  - Further checks their Halal status using the `is_halal` function.\n",
    "- **Error Handling**: Outputs error information for non-200 response statuses.\n",
    "\n",
    "**Overview**: The code integrates various functions to evaluate and report the Halal status of ingredients based on API responses and internal logic."
   ]
  },
  {
   "cell_type": "code",
   "execution_count": 9,
   "id": "c9eec36f-f4bf-4fcc-8652-0f4854b79da7",
   "metadata": {},
   "outputs": [
    {
     "name": "stdout",
     "output_type": "stream",
     "text": [
      "The ingredients listed on the packaging are:\n",
      "\n",
      "- Milk Chocolate [Sugar, Skim Milk Powder (Cow's Milk), Cocoa Mass, Cocoa Butter, Milk Fat (Cow's Milk), Lactose (Cow's Milk), Vegetable Oil (Palm, Sunflower), Alkalized Cocoa Powder];\n",
      "- Emulsifiers: Soy Lecithin (INS 322), Polyglycerol Polyricinoleate (INS 476) from Castor Oil;\n",
      "- Artificial Flavor: Vanillin.\n",
      "\n",
      "Allergen Information:\n",
      "- Contains Milk and Soy.\n",
      "- May contain traces of Almonds, Hazelnuts and Wheat.\n",
      "    \n",
      "    Product Halal Status:, Doubtful\n",
      "Unknown Ingredients: ['on the packaging', 'vegetable oil (palm, sunflower), alkalized cocoa powder)']\n",
      "Status of ['on the packaging', 'vegetable oil (palm, sunflower), alkalized cocoa powder)']: \n",
      "              To determine if the ingredients in \"vegetable oil (palm, sunflower), alkalized cocoa powder\" are halal, you would need to consider the source of the vegetable oil and the method used to refine it. \n",
      "\n",
      "1. Palm Oil: Palm oil is generally considered halal unless it is sourced from non-halal animal fats or the refining process involves haram substances.\n",
      "\n",
      "2. Sunflower Oil: Sunflower oil is typically halal as it is derived from plant sources.\n",
      "\n",
      "3. Alkalized Cocoa Powder: Cocoa powder itself is halal. However, the alkalization process involves the use of various chemicals, such as potassium carbonate, which might need to be investigated further to ensure its compliance with halal standards.\n",
      "\n",
      "To determine the exact halal status of a product, it is recommended to look for a halal certification logo or consult with a trusted halal certification authority.\n"
     ]
    }
   ],
   "source": [
    "# Main logic\n",
    "if response.status_code == 200:\n",
    "    response_data = response.json()\n",
    "\n",
    "    # Extracting the content from the response\n",
    "    ingredients_text = response_data['choices'][0]['message']['content']\n",
    "    \n",
    "    # Parse the ingredients_text to get the ingredients_list with main and sub-ingredients\n",
    "    ingredients_list = parse_ingredients(ingredients_text)\n",
    "\n",
    "    # Creating the lookup table from the pre-processed DataFrame\n",
    "    lookup_table = create_lookup_table(df)\n",
    "\n",
    "    # Checking the status of each ingredient\n",
    "    product_status, unknown_ingredients = check_halal_status(ingredients_list, lookup_table)\n",
    "\n",
    "    # Print the results\n",
    "    print(f\"\"\"{ingredients_text}\n",
    "    \n",
    "    Product Halal Status:, {product_status}\"\"\")\n",
    "    \n",
    "    if unknown_ingredients:\n",
    "        print(\"Unknown Ingredients:\", unknown_ingredients)\n",
    "        halal_status_response = is_halal(unknown_ingredients, headers)\n",
    "        print(f\"\"\"Status of {unknown_ingredients}: \n",
    "              {halal_status_response}\"\"\")    \n",
    "else:\n",
    "    print(\"Error:\", response.status_code, response.json())"
   ]
  },
  {
   "cell_type": "markdown",
   "id": "cd21196b-1d7d-4efe-9b51-afb7d039626b",
   "metadata": {},
   "source": [
    "## Conclusion\n",
    "\n",
    "**Effective in Simple Ingredient Detection:** The model currently performs well in detecting straightforward ingredient lists. It efficiently identifies basic ingredients, demonstrating its effectiveness in simpler scenarios of ingredient analysis.\n",
    "\n",
    "## Future Developments\n",
    "\n",
    "**Streamlining Phrase Recognition:** Instead of continually adding new phrases to the existing list, it would be more practical to develop an efficient module for removing unwanted phrases, leaving only the ingredient names for analysis. This approach ensures streamlined and effective extraction of ingredient information without the need for constant phrase additions.\n",
    "\n",
    "**Detailed Analysis of Sub-Ingredients:** To better determine halal status, the model should be able to analyze not just main ingredients but also their sub-ingredients. A more detailed approach is required to understand the complexity of ingredient lists and their individual components.\n",
    "\n",
    "**Refining Halal Status Determination:** Assessing whether an ingredient is halal involves understanding its source and how it's processed. Enhancing the model to incorporate external data on ingredient sourcing and processing will improve its ability to accurately classify halal status.\n",
    "\n",
    "**Ongoing Model Improvement:** As food ingredients and manufacturing processes change, the model must evolve. Implementing a learning mechanism that allows the model to update its knowledge base with new information will ensure it stays accurate and relevant.\n",
    "\n",
    "**Incorporating User Feedback:** Introducing a feature for users to provide feedback directly through the application. A feedback button can be implemented for users to suggest improvements or report inaccuracies, enabling the model to adapt and evolve based on user experiences and insights.\n"
   ]
  }
 ],
 "metadata": {
  "kernelspec": {
   "display_name": "Python 3 (ipykernel)",
   "language": "python",
   "name": "python3"
  },
  "language_info": {
   "codemirror_mode": {
    "name": "ipython",
    "version": 3
   },
   "file_extension": ".py",
   "mimetype": "text/x-python",
   "name": "python",
   "nbconvert_exporter": "python",
   "pygments_lexer": "ipython3",
   "version": "3.11.4"
  }
 },
 "nbformat": 4,
 "nbformat_minor": 5
}
