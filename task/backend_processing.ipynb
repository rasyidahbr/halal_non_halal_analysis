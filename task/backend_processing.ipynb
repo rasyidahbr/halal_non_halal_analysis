{
 "cells": [
  {
   "cell_type": "markdown",
   "id": "3d6f6064-b370-4154-8fc9-f5aad10cdacb",
   "metadata": {},
   "source": [
    "# Building a simple chatbot with Retrieval Augmented Generation (RAG) using LlamaIndex"
   ]
  },
  {
   "cell_type": "markdown",
   "id": "ef55df4a-44bb-4a8a-9fb6-92501c7bbdd5",
   "metadata": {
    "tags": []
   },
   "source": [
    "## Installing the required packages needed"
   ]
  },
  {
   "cell_type": "code",
   "execution_count": 1,
   "id": "6a039957-b567-4961-9d4f-a64e42418921",
   "metadata": {
    "tags": []
   },
   "outputs": [],
   "source": [
    "# !pip install llama-index\n",
    "# !pip install openai\n",
    "# !pip install transformers\n",
    "# !pip install accelerate\n",
    "# !pip install pypdf\n",
    "# !pip install optimum[exporters]\n",
    "# !pip install InstructorEmbedding\n",
    "# !pip install sentence_transformers\n",
    "# !pip install python-dotenv\n",
    "# !pip install ragas"
   ]
  },
  {
   "cell_type": "markdown",
   "id": "05f763f9-06f9-4f85-ab15-4926e34b88ef",
   "metadata": {},
   "source": [
    "## Import libraries, API and set filepath"
   ]
  },
  {
   "cell_type": "code",
   "execution_count": 2,
   "id": "e4cbe370-a693-493c-bd9d-9ad80a257a38",
   "metadata": {
    "tags": []
   },
   "outputs": [],
   "source": [
    "from llama_index import Document, GPTVectorStoreIndex, ServiceContext\n",
    "from llama_index.readers import BeautifulSoupWebReader, SimpleDirectoryReader\n",
    "from llama_index.llms import OpenAI\n",
    "from llama_index.evaluation import DatasetGenerator\n",
    "from llama_index import download_loader # For CSV\n",
    "from llama_index import (VectorStoreIndex,\n",
    "                         SimpleDirectoryReader,\n",
    "                         StorageContext,\n",
    "                         load_index_from_storage,)\n",
    "from llama_index import (ServiceContext, \n",
    "                         LLMPredictor, \n",
    "                         OpenAIEmbedding, \n",
    "                         PromptHelper)\n",
    "from llama_index.text_splitter import SentenceSplitter\n",
    "from llama_index import set_global_service_context\n",
    "# from llama_index.llama_dataset.generator import RagDatasetGenerator\n",
    "# from llama_index.embeddings import OpenAIEmbedding\n",
    "\n",
    "import openai\n",
    "import os\n",
    "import nest_asyncio\n",
    "import random\n",
    "from pathlib import Path\n",
    "from dotenv import load_dotenv, find_dotenv\n",
    "import toml"
   ]
  },
  {
   "cell_type": "code",
   "execution_count": 3,
   "id": "687537b5-d096-4c9b-ad9c-e013fdbf1386",
   "metadata": {
    "tags": []
   },
   "outputs": [],
   "source": [
    "# set filepath to my data directory \n",
    "\n",
    "current_dir = os.getcwd()\n",
    "data_dir = os.path.join(current_dir, \"./data\")"
   ]
  },
  {
   "cell_type": "markdown",
   "id": "bbd2fe4b-d17e-46ba-93ec-d4122dc655bc",
   "metadata": {},
   "source": [
    "## Load the data\n",
    "\n",
    "According to [LlamaIndex's documentation](https://gpt-index.readthedocs.io/en/latest/examples/data_connectors/simple_directory_reader.html), the `SimpleDirectoryReader` is the most commonly used data connector that just works. Simply pass in a input directory or a list of files. It will select the best file reader based on the file extensions. \n",
    "\n",
    "In this use case here, there are PDFs and html pages from the latest release from MUIS and other islamic wesbites, which are not included in gpt-3.5-turbo's."
   ]
  },
  {
   "cell_type": "code",
   "execution_count": 4,
   "id": "b9282ea0-148b-40db-ae7f-542028a252c9",
   "metadata": {
    "tags": []
   },
   "outputs": [
    {
     "name": "stdout",
     "output_type": "stream",
     "text": [
      "['39949edf-badb-4231-a3cb-1079dcd35711', '3992c16a-8594-46a6-afec-46a17a6813d4', '69004272-5d69-4996-bafb-85b22aca724b', 'e00ebc10-99f3-4687-9757-421144c6dde1', '0af3b1bf-a347-4737-90ca-e19e2a274bc2', '2d66a4e8-a38b-4fea-9081-0737c8cdbbc7', '0ac4f1ba-8b84-4405-be31-6b546661388a', '62561b66-a68c-4d7d-8f52-11dfca87dc94', 'e144b2c0-4c06-4c4f-b6f5-21819d37c408', '365cacc4-9625-4c83-8b99-1b73a6524272', '0f8551b3-f582-4eec-b169-1e267c22718e', '68ff4887-a1c0-46dd-a3e6-8ea664408445', '544520a7-3e02-4a74-934f-fca2ac4e661c', '9f404292-9df6-41c6-8dd3-4342a9e9f9f4', '64804a22-ef2a-47fb-b312-eb5be89b00d5', 'ed15b57a-1527-4f44-8cfe-053d28b0b52a', 'cb91d52e-ef7d-4942-a13a-63e0cd1cc433', '7c4e3c5d-069d-4d94-bfbb-937af8028334', '680cba60-87c1-4808-b711-a4c67e58e7fd', '72fffb9b-98ba-4fe7-b995-1a6b0484ec97', '9db8985c-9960-4145-bbca-956c5fda6077', '6f123891-87f9-4f2d-8f6b-6493b4868bac', '3ee59216-3db1-4f7e-b85a-701bd370301b', '93563a7a-32fa-4273-be84-76f8b072f138', 'dd48a8f6-8b67-4a12-b8b6-b9402fc9ffb0', '6165139e-8731-4785-91d7-5e5891b8e18b', '66abf739-1e36-49a4-b3ee-767498a9ddc9', '2339b182-c41c-49a5-bd22-324fdbcf3012', '0c74d60a-da56-4cd4-a725-37a12d65b2ad', 'e1c47281-cb65-4fef-b20d-1a2f942eba8d', '890b61a3-a2a7-41f6-8b9b-9496f5aea11c', '7e4375e2-760d-46ce-b0f2-a5ca47a07039', '7fd47c69-3723-43a7-aa3c-15e780822c0f', '55427b70-f2b4-4de8-8d73-3857eda2ca0a', 'e45db4d5-8fef-4c0d-9cf4-18b130f86808', 'e7e93f1a-7ed1-4942-9652-284d32a81580', '4de25d7f-ecc8-43bb-a42e-ff536ae4839b', '55c5b160-5b11-4b15-a524-6f1df8b1038f', '3014d993-9217-43c2-a4ae-ca6536659c62', 'a5ab6e2b-4591-4158-ba4c-ea072ad19e95', 'a1a17f1f-0466-4cb2-822a-39d760424e55', '53ed89e0-89b8-4a43-a2a0-c38bb8abb585', 'b313629b-6c75-4092-9ebb-9ca8a91279c3', '064e15d7-19f1-4ebb-991d-9286729bd008', '64dfca60-25c5-4e59-9c64-3e7b53bd541b', '95d77897-30f2-4c02-9ad9-c08d9721ec80', '4abbd545-9a76-4151-b452-30114e0788ca', 'e31b082e-3cae-4861-b173-6b1442d75244', '18aa4536-af07-4766-9e1c-dff6ddd7982f', '604033a4-5e8a-4765-a7a5-60189e3be821', '865ce6de-d7b7-463b-973a-0573ffdfdf15']\n"
     ]
    }
   ],
   "source": [
    "filename_fn = lambda filename: {'file_name': filename}\n",
    "pdfhtml_docs = SimpleDirectoryReader(input_dir=data_dir, exclude_hidden=True, file_metadata=filename_fn).load_data()\n",
    "print([x.doc_id for x in pdfhtml_docs])"
   ]
  },
  {
   "cell_type": "code",
   "execution_count": 5,
   "id": "12628f87-30ba-48f4-bcf2-6cba4719fdc5",
   "metadata": {
    "tags": []
   },
   "outputs": [
    {
     "name": "stdout",
     "output_type": "stream",
     "text": [
      "Loaded 51 documents.\n"
     ]
    }
   ],
   "source": [
    "# Check if documents are loaded\n",
    "if not pdfhtml_docs:\n",
    "    print(\"No documents loaded. Check your data directory path.\")\n",
    "else:\n",
    "    print(f\"Loaded {len(pdfhtml_docs)} documents.\")"
   ]
  },
  {
   "cell_type": "code",
   "execution_count": 6,
   "id": "163e9021-78e5-45d1-b885-49b8eb2d8540",
   "metadata": {
    "tags": []
   },
   "outputs": [],
   "source": [
    "# #Use this code if your data set is in CSV format\n",
    "# PagedCSVReader = download_loader(\"PagedCSVReader\")\n",
    "\n",
    "# loader = PagedCSVReader(encoding=\"utf-8\")\n",
    "# csv_docs = loader.load_data(file=Path('data/halal_non_halal_ingred.csv'))\n",
    "\n",
    "# # print([x.doc_id for x in docs])\n",
    "# print(f\"Loaded {len(csv_docs)} docs\")"
   ]
  },
  {
   "cell_type": "markdown",
   "id": "49695133-be41-40a2-a379-6d4a11bfb984",
   "metadata": {},
   "source": [
    "## Creating an Index\n",
    "\n",
    "Once all the data is loaded, we can proceed to build an index for the chatbot. There are four types of indexing methods available: Summary Index, VectorStore Index, Tree Index, and Keyword Table Index. In this context, we will be utilizing the `VectorStore Index`, which happens to be one of the most widely used indexing techniques.\n",
    "\n",
    "### Step 1: Set Up OpenAI Service Context for NLP\n",
    "\n",
    "Next, set up the ServiceContext with OpenAI GPT-3.5-turbo for processing and understanding user queries.\n",
    "-  for more info on service context, refer to https://docs.llamaindex.ai/en/stable/module_guides/supporting_modules/service_context.html#setting-global-configuration"
   ]
  },
  {
   "cell_type": "code",
   "execution_count": 7,
   "id": "085980c4-7fc7-4856-a25e-60116e9ea387",
   "metadata": {
    "tags": []
   },
   "outputs": [],
   "source": [
    "with open('secrets.toml', 'r') as f:\n",
    "    config = toml.load(f)\n"
   ]
  },
  {
   "cell_type": "code",
   "execution_count": 8,
   "id": "dae8cdc4-9c46-41df-8510-06c31782417a",
   "metadata": {
    "tags": []
   },
   "outputs": [],
   "source": [
    "# Load environment variables from .env file\n",
    "dotenv_path = './.env'\n",
    "load_dotenv(dotenv_path)\n",
    "\n",
    "# Fetch and set the OpenAI API key\n",
    "try:\n",
    "    openai.api_key = os.environ['OPENAI_API_KEY']\n",
    "except KeyError:\n",
    "    print(\"OpenAI API key not found in environment variables.\")"
   ]
  },
  {
   "cell_type": "code",
   "execution_count": 9,
   "id": "48d358ce-19a9-4033-81a1-5358af4a24c2",
   "metadata": {},
   "outputs": [],
   "source": [
    "llm = OpenAI(model=\"gpt-3.5-turbo\", temperature=0, max_tokens=256)\n",
    "\n",
    "#configure service context\n",
    "gpt_context = ServiceContext.from_defaults(\n",
    "    llm=llm,\n",
    ")\n"
   ]
  },
  {
   "cell_type": "markdown",
   "id": "6eb1187c-fb2a-4136-b608-d4d2a4d8e4b7",
   "metadata": {},
   "source": [
    "### Step 2: Set Up Document Indexing - Storing your index\n",
    "\n",
    "First, create and store the document index if it doesn't already exist, or load it if it does. This index will be used to retrieve information about ingredients.\n",
    "- for more information on storing your index, refer to: https://docs.llamaindex.ai/en/stable/getting_started/starter_example.html#"
   ]
  },
  {
   "cell_type": "code",
   "execution_count": 10,
   "id": "9ac3be1c-bf8d-4515-af47-cbffbd1668f4",
   "metadata": {},
   "outputs": [
    {
     "data": {
      "application/vnd.jupyter.widget-view+json": {
       "model_id": "f4745e2303714adaa7321b8b4ab5e899",
       "version_major": 2,
       "version_minor": 0
      },
      "text/plain": [
       "Parsing nodes:   0%|          | 0/51 [00:00<?, ?it/s]"
      ]
     },
     "metadata": {},
     "output_type": "display_data"
    },
    {
     "data": {
      "application/vnd.jupyter.widget-view+json": {
       "model_id": "0358692268074f659ee236205648adee",
       "version_major": 2,
       "version_minor": 0
      },
      "text/plain": [
       "Generating embeddings:   0%|          | 0/238 [00:00<?, ?it/s]"
      ]
     },
     "metadata": {},
     "output_type": "display_data"
    },
    {
     "name": "stdout",
     "output_type": "stream",
     "text": [
      "Index created and persisted successfully.\n"
     ]
    }
   ],
   "source": [
    "# Directory to store the indexed data\n",
    "storage_dir = \"./storage\"\n",
    "\n",
    "# Ensure the storage directory exists\n",
    "if not os.path.exists(storage_dir):\n",
    "    os.makedirs(storage_dir, exist_ok=True)\n",
    "    \n",
    "# Create a StorageContext\n",
    "storage_context = StorageContext.from_defaults(persist_dir=storage_dir)\n",
    "\n",
    "# Create the VectorStoreIndex with service_context\n",
    "index = GPTVectorStoreIndex.from_documents(pdfhtml_docs, service_context=gpt_context, show_progress=True)\n",
    "\n",
    "# Persist the index\n",
    "index.storage_context.persist()\n",
    "print(\"Index created and persisted successfully.\")"
   ]
  },
  {
   "cell_type": "markdown",
   "id": "dcabf2ea-98c4-4f23-864a-ab81f6d30e3a",
   "metadata": {},
   "source": [
    "### Technically speaking, we are already able to proceed with a chat engine and end off this notebook. But, I am curious to know how to fine tune, so here it goes. \n",
    "\n",
    "The next step is generating a training and eval dataset.\n",
    "\n",
    "We will generate 40 questions on different sections of the docs we just ingested.\n",
    "\n",
    "Then, we will use GPT-3.5 on the eval questions to get our baseline performance, followed by using GPT-4 on the train questions to generate our training data. The training data will be collected with out `OpenAIFineTuningHandler`.\n",
    "\n",
    "---\n",
    "\n",
    "more info here: https://gpt-index.readthedocs.io/en/v0.8.49/examples/finetuning/openai_fine_tuning.html (this is where I got most of my code from too) \n",
    "\n",
    "Note: considerable amount of money and time is spent here!"
   ]
  },
  {
   "cell_type": "markdown",
   "id": "59f2c65a-8a10-4be9-b269-8a8623997531",
   "metadata": {},
   "source": [
    "## Train generation"
   ]
  },
  {
   "cell_type": "code",
   "execution_count": 11,
   "id": "6c3ae894-2cf3-4fe8-814f-6e4a17467a50",
   "metadata": {
    "tags": []
   },
   "outputs": [],
   "source": [
    "# Shuffle the documents\n",
    "random.seed(42)\n",
    "random.shuffle(pdfhtml_docs)"
   ]
  },
  {
   "cell_type": "code",
   "execution_count": 12,
   "id": "aefdf0c3-3428-4b2d-8909-d9c023fca682",
   "metadata": {},
   "outputs": [
    {
     "name": "stderr",
     "output_type": "stream",
     "text": [
      "C:\\Users\\myste\\anaconda3\\Lib\\site-packages\\llama_index\\evaluation\\dataset_generation.py:187: DeprecationWarning: Call to deprecated class DatasetGenerator. (Deprecated in favor of `RagDatasetGenerator` which should be used instead.)\n",
      "  return cls(\n"
     ]
    }
   ],
   "source": [
    "# Define the question generation query\n",
    "# This query will guide the generation of questions for each document\n",
    "# It's focused on evaluating the halal status of ingredients in food products\n",
    "\n",
    "question_gen_query = (\n",
    "    \"Given your expertise in Halal food certification, I need you to analyze the ingredients of a specific food product for Halal compliance. Please provide a clear and detailed assessment for each ingredient based on the information available in the provided documents. Consider factors such as the source and processing methods of each ingredient, as these can impact its Halal status. If any ingredient is non-Halal, doubtful, or lacks sufficient information for assessment, please categorize the entire food product accordingly. Your goal is to determine the overall Halal status of the food product. Please provide concise and factually accurate responses.\"\"\n",
    ")\n",
    "\n",
    "# find out more about question generation from \n",
    "# https://gpt-index.readthedocs.io/en/latest/examples/evaluation/QuestionGeneration.html\n",
    "\n",
    "# Create the dataset generator using the combined and shuffled documents\n",
    "# This will use the defined service context and question generation query\n",
    "# to create a dataset where each document is paired with a generated question\n",
    "\n",
    "dataset_generator = DatasetGenerator.from_documents(\n",
    "    pdfhtml_docs[6:10],   # Limit to the first 40 documents\n",
    "    question_gen_query=question_gen_query,\n",
    "    service_context=gpt_context,  # Use the previously defined service_context\n",
    ")\n"
   ]
  },
  {
   "cell_type": "code",
   "execution_count": 13,
   "id": "ca3e39a1-2084-4d0e-94f7-13f70b630380",
   "metadata": {
    "tags": []
   },
   "outputs": [],
   "source": [
    "# To avoid RuntimeError: asyncio.run() cannot be called from a running event loop\n",
    "# The below code is to unblock: nest the event loops\n",
    "# Apply asyncio patch to enable asynchronous operations in a Jupyter environment\n",
    "nest_asyncio.apply()"
   ]
  },
  {
   "cell_type": "code",
   "execution_count": 14,
   "id": "8717c9e6-b52c-4e71-980f-2b05ec2440ef",
   "metadata": {
    "tags": []
   },
   "outputs": [
    {
     "name": "stdout",
     "output_type": "stream",
     "text": [
      "Generated  40  questions\n"
     ]
    },
    {
     "name": "stderr",
     "output_type": "stream",
     "text": [
      "C:\\Users\\myste\\anaconda3\\Lib\\site-packages\\llama_index\\evaluation\\dataset_generation.py:282: DeprecationWarning: Call to deprecated class QueryResponseDataset. (Deprecated in favor of `LabelledRagDataset` which should be used instead.)\n",
      "  return QueryResponseDataset(queries=queries, responses=responses_dict)\n"
     ]
    }
   ],
   "source": [
    "# Set the timeout (in seconds)\n",
    "# openai.api_timeout = 80 \n",
    "\n",
    "questions = dataset_generator.generate_questions_from_nodes(num=40)\n",
    "print(\"Generated \", len(questions), \" questions\")\n"
   ]
  },
  {
   "cell_type": "code",
   "execution_count": 15,
   "id": "6b9791d8-852f-46e4-8a68-137f4075614c",
   "metadata": {
    "tags": []
   },
   "outputs": [
    {
     "name": "stdout",
     "output_type": "stream",
     "text": [
      "['Is Curcumin (C.I. 75300) considered halal?', 'What is the halal status of Riboflavin/Lactofavin/Vitamin B2?', 'Is Tartrazine/FD&C Yellow 5 (C.I. 19140) halal?', 'Can Quinoline Yellow (C.I. 47005) be considered halal?', 'Is Yellow 2G (C.I. 18965) halal?', 'What is the halal status of Sunset Yellow FCF/FD&C Yellow 6 (C.I. 15985)?', 'Is Cochineal/Carmines (C.I. 75470) considered halal?', 'Can Carmoisine/Azorubine (C.I. 14720) be considered halal?', 'Is Amaranth/FD&C Red 2 (C.I. 16185) halal?', 'What is the halal status of Ponceau 4R/Cochineal Red A (C.I. 16255)?', 'Is Erythrosine/FD&C Red 3 (C.I. 45430) considered halal?', 'Can Red', 'Is Colouring considered halal or non-halal based on the available information?', 'What is the halal status of Beet Red/Betanin/Betanidin?', 'Are Anthocyanins halal or non-halal?', 'Is Calcium Carbonate/Chalk considered halal or non-halal?', 'What is the halal status of Titanium Dioxide?', 'Are Iron Oxides halal or non-halal?', 'Is Aluminium halal or non-halal?', 'What is the halal status of Silver?', 'Are Gold-based colorings halal or non-halal?', 'Is Pigment Rubine/Lithol Rubine BK halal or non-halal?', 'Is Sorbic Acid considered halal or non-halal?', 'What is the halal status of Sodium Sorbate?', 'Are Potassium Sorbate and Calcium Sorbate halal or non-halal?', 'Is Benzoic Acid considered halal or non-halal?', 'What is the halal status of Sodium Benzoate?', 'Are Potassium Benzoate and Calcium Benzoate halal or non-halal', 'Is Preservative considered halal or non-halal based on the available information?', 'What is the halal status of Formic Acid as a preservative?', 'Is Sodium Formate halal or non-halal as a preservative?', 'Can Calcium Formate be considered halal as a preservative?', 'Is Hexamine halal or non-halal as a preservative?', 'What is the halal status of Potassium Nitrite as a preservative?', 'Can Sodium Nitrite be considered halal as a preservative?', 'Is Sodium Nitrate halal or non-halal as a preservative?', 'Can Potassium Nitrate/Saltpetre be considered halal as a preservative?', 'Is Acetic Acid halal or non-halal as a food acid?', 'What is the halal status of Potassium Acetate as a food acid?', 'Can Sodium Acetate be considered halal as a food acid?']\n"
     ]
    }
   ],
   "source": [
    "print(questions)"
   ]
  },
  {
   "cell_type": "code",
   "execution_count": 16,
   "id": "d4003b78-8f54-497d-8003-9259439b832f",
   "metadata": {
    "tags": []
   },
   "outputs": [],
   "source": [
    "# Open a file named 'train_questions.txt' in write mode\n",
    "# 'with open' is used for safe handling of file operations\n",
    "with open(\"train_questions.txt\", \"w\") as f:\n",
    "    # Iterate over each question in the 'questions' list\n",
    "    for question in questions:\n",
    "        # Write each question to the file, followed by a newline character\n",
    "        # This ensures each question is on a new line in the file\n",
    "        f.write(question + \"\\n\")\n",
    "        # The newline character '\\n' is important for separating the questions\n",
    "\n",
    "# Note: The 'with open' statement automatically handles the closing of the file\n",
    "# once the block of code under it is executed. This is a good practice to prevent\n",
    "# file handling errors and ensure that data is properly written to the file."
   ]
  },
  {
   "cell_type": "markdown",
   "id": "b516d983-8837-44ce-9db1-f091c3f37193",
   "metadata": {},
   "source": [
    "### Generate Evaluation Dataset\n",
    "\n",
    "This dataset is for subsequent evaluation step to measure the performance of the models.\n",
    "<br> Questions are generated from a different set of documents."
   ]
  },
  {
   "cell_type": "code",
   "execution_count": 17,
   "id": "867af7b6-24c3-4f72-86e0-b93322a97123",
   "metadata": {
    "tags": []
   },
   "outputs": [
    {
     "name": "stderr",
     "output_type": "stream",
     "text": [
      "C:\\Users\\myste\\anaconda3\\Lib\\site-packages\\llama_index\\evaluation\\dataset_generation.py:187: DeprecationWarning: Call to deprecated class DatasetGenerator. (Deprecated in favor of `RagDatasetGenerator` which should be used instead.)\n",
      "  return cls(\n"
     ]
    }
   ],
   "source": [
    "# Create a DatasetGenerator from a subset of 'docs' starting from the 4th document (index 3)\n",
    "dataset_generator = DatasetGenerator.from_documents(\n",
    "    pdfhtml_docs[\n",
    "        9:11],  # since we generated question for the first 40 documents, we can skip the first 40 \n",
    "    question_gen_query=question_gen_query,  # Specify the question generation query\n",
    "    service_context=gpt_context,  # Provide the GPT service context\n",
    ")"
   ]
  },
  {
   "cell_type": "code",
   "execution_count": 18,
   "id": "f0bc781e-f7f3-443f-a774-7c12afe3f7b6",
   "metadata": {
    "tags": []
   },
   "outputs": [
    {
     "name": "stdout",
     "output_type": "stream",
     "text": [
      "Generated  20  questions\n"
     ]
    },
    {
     "name": "stderr",
     "output_type": "stream",
     "text": [
      "C:\\Users\\myste\\anaconda3\\Lib\\site-packages\\llama_index\\evaluation\\dataset_generation.py:282: DeprecationWarning: Call to deprecated class QueryResponseDataset. (Deprecated in favor of `LabelledRagDataset` which should be used instead.)\n",
      "  return QueryResponseDataset(queries=queries, responses=responses_dict)\n"
     ]
    }
   ],
   "source": [
    "# Generate questions from a dataset using the dataset generator\n",
    "questions = dataset_generator.generate_questions_from_nodes(num=20)\n",
    "\n",
    "# Print the number of generated questions\n",
    "print(\"Generated \", len(questions), \" questions\")"
   ]
  },
  {
   "cell_type": "code",
   "execution_count": 19,
   "id": "01203890-9e1b-46a1-8b7f-0a2ceda236b8",
   "metadata": {
    "tags": []
   },
   "outputs": [],
   "source": [
    "# Write the generated questions to a file for evaluation purpose\n",
    "with open(\"eval_questions.txt\", \"w\") as f:\n",
    "    for question in questions:\n",
    "        f.write(question + \"\\n\")"
   ]
  },
  {
   "cell_type": "code",
   "execution_count": 20,
   "id": "2e4ea062-4108-4e2b-9851-cf1808304532",
   "metadata": {
    "tags": []
   },
   "outputs": [
    {
     "name": "stdout",
     "output_type": "stream",
     "text": [
      "Total number of documents: 51\n"
     ]
    }
   ],
   "source": [
    "print(\"Total number of documents:\", len(pdfhtml_docs))"
   ]
  },
  {
   "cell_type": "markdown",
   "id": "580652af-7d67-42ed-bf10-eb808bd2a547",
   "metadata": {},
   "source": [
    "### GPT-3.5 Turbo to Generate Training Data\n",
    "\n",
    "This code is used to set up a fine-tuning process for a language model, specifically GPT-3.5 Turbo. Here's a breakdown of what it does:\n",
    "\n",
    "- Create an instance of the `OpenAIFineTuningHandler`. This handler is used for fine-tuning the language model.\n",
    "\n",
    "- Create a `CallbackManager` to manage callbacks during model interactions. The fine-tuning handler is added to this manager. Callbacks are functions that can be executed at various points during model operations.\n",
    "\n",
    "- Configure the GPT-3.5 Turbo model with a specific context. This context includes the following settings:\n",
    "    - The language model used is GPT-3.5 Turbo.\n",
    "    - The temperature parameter is set to 0, which means deterministic output (no randomness).\n",
    "    - The context window is limited to 2048 tokens. This artificially limits the amount of context that the model can consider, possibly for testing or optimization purposes.\n",
    "    - The callback_manager is set to the previously created callback_manager."
   ]
  },
  {
   "cell_type": "code",
   "execution_count": 21,
   "id": "326fb496-5c27-4501-a7e7-b1966972d57c",
   "metadata": {},
   "outputs": [],
   "source": [
    "from llama_index.callbacks import OpenAIFineTuningHandler\n",
    "from llama_index.callbacks import CallbackManager\n",
    "\n",
    "# Create an instance of the OpenAIFineTuningHandler for fine-tuning\n",
    "finetuning_handler = OpenAIFineTuningHandler()\n",
    "\n",
    "# Create a CallbackManager and add the fine-tuning handler to it\n",
    "callback_manager = CallbackManager([finetuning_handler])\n",
    "\n",
    "# Configure the GPT-3.5 Turbo model with a specific context\n",
    "gpt_3_5_context = ServiceContext.from_defaults(\n",
    "    llm=OpenAI(model=\"gpt-3.5-turbo\", temperature=0),\n",
    "    context_window=2048,  # limit the context window artifically to test refine process\n",
    "    callback_manager=callback_manager,\n",
    ")"
   ]
  },
  {
   "cell_type": "code",
   "execution_count": 22,
   "id": "c0e453b0-6ed7-43e8-9521-8a18fa0a8a5a",
   "metadata": {
    "tags": []
   },
   "outputs": [],
   "source": [
    "# Read questions from a file and store them in a list\n",
    "\n",
    "questions = []\n",
    "with open(\"train_questions.txt\", \"r\") as f:\n",
    "    for line in f:\n",
    "        questions.append(line.strip())"
   ]
  },
  {
   "cell_type": "code",
   "execution_count": 23,
   "id": "ad476d2d-5571-45ec-976a-d508f4e48126",
   "metadata": {
    "tags": []
   },
   "outputs": [
    {
     "data": {
      "text/plain": [
       "['Is Curcumin (C.I. 75300) considered halal?',\n",
       " 'What is the halal status of Riboflavin/Lactofavin/Vitamin B2?',\n",
       " 'Is Tartrazine/FD&C Yellow 5 (C.I. 19140) halal?',\n",
       " 'Can Quinoline Yellow (C.I. 47005) be considered halal?',\n",
       " 'Is Yellow 2G (C.I. 18965) halal?',\n",
       " 'What is the halal status of Sunset Yellow FCF/FD&C Yellow 6 (C.I. 15985)?',\n",
       " 'Is Cochineal/Carmines (C.I. 75470) considered halal?',\n",
       " 'Can Carmoisine/Azorubine (C.I. 14720) be considered halal?',\n",
       " 'Is Amaranth/FD&C Red 2 (C.I. 16185) halal?',\n",
       " 'What is the halal status of Ponceau 4R/Cochineal Red A (C.I. 16255)?',\n",
       " 'Is Erythrosine/FD&C Red 3 (C.I. 45430) considered halal?',\n",
       " 'Can Red',\n",
       " 'Is Colouring considered halal or non-halal based on the available information?',\n",
       " 'What is the halal status of Beet Red/Betanin/Betanidin?',\n",
       " 'Are Anthocyanins halal or non-halal?',\n",
       " 'Is Calcium Carbonate/Chalk considered halal or non-halal?',\n",
       " 'What is the halal status of Titanium Dioxide?',\n",
       " 'Are Iron Oxides halal or non-halal?',\n",
       " 'Is Aluminium halal or non-halal?',\n",
       " 'What is the halal status of Silver?',\n",
       " 'Are Gold-based colorings halal or non-halal?',\n",
       " 'Is Pigment Rubine/Lithol Rubine BK halal or non-halal?',\n",
       " 'Is Sorbic Acid considered halal or non-halal?',\n",
       " 'What is the halal status of Sodium Sorbate?',\n",
       " 'Are Potassium Sorbate and Calcium Sorbate halal or non-halal?',\n",
       " 'Is Benzoic Acid considered halal or non-halal?',\n",
       " 'What is the halal status of Sodium Benzoate?',\n",
       " 'Are Potassium Benzoate and Calcium Benzoate halal or non-halal',\n",
       " 'Is Preservative considered halal or non-halal based on the available information?',\n",
       " 'What is the halal status of Formic Acid as a preservative?',\n",
       " 'Is Sodium Formate halal or non-halal as a preservative?',\n",
       " 'Can Calcium Formate be considered halal as a preservative?',\n",
       " 'Is Hexamine halal or non-halal as a preservative?',\n",
       " 'What is the halal status of Potassium Nitrite as a preservative?',\n",
       " 'Can Sodium Nitrite be considered halal as a preservative?',\n",
       " 'Is Sodium Nitrate halal or non-halal as a preservative?',\n",
       " 'Can Potassium Nitrate/Saltpetre be considered halal as a preservative?',\n",
       " 'Is Acetic Acid halal or non-halal as a food acid?',\n",
       " 'What is the halal status of Potassium Acetate as a food acid?',\n",
       " 'Can Sodium Acetate be considered halal as a food acid?']"
      ]
     },
     "execution_count": 23,
     "metadata": {},
     "output_type": "execute_result"
    }
   ],
   "source": [
    "questions"
   ]
  },
  {
   "cell_type": "code",
   "execution_count": 24,
   "id": "b049a74b-40e4-4a1c-9247-aa3b82730cc1",
   "metadata": {
    "tags": []
   },
   "outputs": [],
   "source": [
    "# Create a VectorStoreIndex from a list of documents using the gpt_4_context\n",
    "index = VectorStoreIndex.from_documents(pdfhtml_docs, service_context=gpt_3_5_context)\n",
    "\n",
    "# Create a query engine based on the index with a specified similarity threshold\n",
    "query_engine = index.as_query_engine(similarity_top_k=2)"
   ]
  },
  {
   "cell_type": "code",
   "execution_count": 25,
   "id": "2e73c1ef-9ef1-4c63-8c8d-8ffd27cfa52f",
   "metadata": {
    "tags": []
   },
   "outputs": [],
   "source": [
    "# Iterate through a list of questions and query the query engine for each question\n",
    "for question in questions:\n",
    "    response = query_engine.query(question)"
   ]
  },
  {
   "cell_type": "markdown",
   "id": "153199db-26d2-4465-a13a-25f3709efca3",
   "metadata": {},
   "source": [
    "### Create `OpenAIFinetuneEngine`\n",
    "\n",
    "`OpenAIFinetuneEngine` is a finetune engine that will take care of launching a finetuning job, and returning an LLM model that can be directly plugged in to the rest of LlamaIndex workflows."
   ]
  },
  {
   "cell_type": "code",
   "execution_count": 26,
   "id": "c2c16a52-69bd-4865-a423-208d34f19d7f",
   "metadata": {
    "tags": []
   },
   "outputs": [
    {
     "name": "stdout",
     "output_type": "stream",
     "text": [
      "Wrote 76 examples to finetuning_events.jsonl\n"
     ]
    }
   ],
   "source": [
    "# Save fine-tuning events to a JSONL file\n",
    "finetuning_handler.save_finetuning_events(\"finetuning_events.jsonl\")"
   ]
  },
  {
   "cell_type": "markdown",
   "id": "f8a1800c-5bc3-45c3-ac20-a9a4cd504dcc",
   "metadata": {},
   "source": [
    "## Evaluation\n",
    "\n",
    "To measure the performance of the pipeline, whether it is able to generate relevant and accurate responses given the external data source and a set of queries, we use 2 evaluation metrics from [`ragas` evaluation library](https://github.com/explodinggradients/ragas/tree/main/docs/concepts/metrics). Ragas uses LLMs under the hood to compute the evaluations.\n",
    "\n",
    "The performance of the base model, gpt-3.5-turbo, will be compared with the fine-tuned model.\n",
    "\n",
    "Computation of evaluation metrics require 3 components: \n",
    "1) `Question`: A list of questions that could be asked about my external data/documents, generated using .generate_questions_from_nodes in above fine-tuning step<br>\n",
    "2) `Context`: Retrieved contexts corresponding to each question. The context represents (chunks of) documents that are relevant to the question, i.e. the source from where the answer will be generated.<br>\n",
    "3) `Answer`: Answer generated corresponding to each question from baseline and fine-tuned model.\n",
    "\n",
    "The two metrics are as follow:\n",
    "\n",
    "- `answer_relevancy` - Measures how relevant the generated answer is to the question, where an answer is considered relevant when it <u>directly</u> and <u>appropriately</u> addresses the orginal question, i.e. answers that are complete and do not include unnecessary or duplicated information. The metric does not consider factuality. It is computed using `question` and `answer`, with score ranging between 0 and 1, the higher the score, the better the performance in terms of providing relevant answers. To calculate this score, the LLM is prompted to generate an appropriate question for the generated answer multiple times, and the mean cosine similarity between these generated questions and the original question is measured. The underlying idea is that if the generated answer accurately addresses the initial question, the LLM should be able to generate questions from the answer that align with the original question, i.e. high mean cosine similarity, translating to high score.\n",
    "\n",
    "\n",
    "- `faithfulness` - Measures how factually accurate is the generated answer, i.e. if the response was hallucinated, or based on factuality (from the context). It is computed from `answer` and `context`, with score ranging between 0 and 1, the higher the score, the better the performance in terms of providing contextually accurate information. To calculate this score, the LLM identifies statements within the generated answer and verifies if each statement is supported by the retrieved context. The process then counts the number of statements within the generated answer that can be logically inferred from the context, and dvide by the total number of statements in the answer. \n",
    "\n",
    "Additional note: Cosine similarity is a metric used to measure how similar two items are. Mathematically, it measures the cosine of the angle between two vectors projected in a multi-dimensional space. The output value ranges from 0–1 where 0 means no similarity, whereas 1 means that both the items are 100% similar.\n",
    "<br>Hallucinations refer to instances where the language model produces information or claims that are not accurate or supported by the input context.\n",
    "\n",
    "Resources:\n",
    "<br>https://cobusgreyling.medium.com/rag-evaluation-9813a931b3d4\n",
    "<br>https://blog.langchain.dev/evaluating-rag-pipelines-with-ragas-langsmith/\n",
    "<br>https://medium.aiplanet.com/evaluate-rag-pipeline-using-ragas-fbdd8dd466c1"
   ]
  },
  {
   "cell_type": "code",
   "execution_count": 27,
   "id": "b7e74ded-7b06-4efd-b849-82f3e691d325",
   "metadata": {
    "tags": []
   },
   "outputs": [],
   "source": [
    "questions = []\n",
    "with open(\"eval_questions.txt\", \"r\") as f:\n",
    "    for line in f:\n",
    "        questions.append(line.strip())"
   ]
  },
  {
   "cell_type": "code",
   "execution_count": 30,
   "id": "48e82c88-46f4-4883-8a7a-4f04e573fc65",
   "metadata": {
    "tags": []
   },
   "outputs": [],
   "source": [
    "from llama_index import VectorStoreIndex\n",
    "\n",
    "# limit the context window to 2048 tokens so that refine is used\n",
    "gpt_context = ServiceContext.from_defaults(\n",
    "    # If finetuning on openai website, replace the model name accordingly\n",
    "    llm=OpenAI(model=\"ft:gpt-3.5-turbo-0613:personal::8TEKU4A7\", temperature=0), context_window=2048\n",
    "    \n",
    "    # If finetuning on localhost, uncomment this code\n",
    "    # llm=OpenAI(model=\"gpt-3.5-turbo\", temperature=0), context_window=2048\n",
    ")\n",
    "\n",
    "index = VectorStoreIndex.from_documents(pdfhtml_docs, service_context=gpt_context)\n",
    "\n",
    "# as_query_engine builds a default retriever and query engine on top of the index\n",
    "# We configure the retriever to return the top 2 most similar documents, which is also the default setting\n",
    "query_engine = index.as_query_engine(similarity_top_k=2)"
   ]
  },
  {
   "cell_type": "code",
   "execution_count": 31,
   "id": "e64d30a1-1ffb-40f1-81a7-48ad549bcb05",
   "metadata": {
    "tags": []
   },
   "outputs": [],
   "source": [
    "# Initialize empty lists to store contexts and answers\n",
    "contexts = []\n",
    "answers = []\n",
    "\n",
    "# Iterate through a list of questions\n",
    "for question in questions:\n",
    "    # Query the query_engine with the current question\n",
    "    response = query_engine.query(question)\n",
    "    \n",
    "    # Extract and store the content of source nodes as contexts\n",
    "    # This assumes that response.source_nodes is a list of nodes\n",
    "    # and each node has a get_content() method\n",
    "    context_content = [x.node.get_content() for x in response.source_nodes]\n",
    "    contexts.append(context_content)\n",
    "    \n",
    "    # Convert the response to a string and store it as an answer\n",
    "    answer_str = str(response)\n",
    "    answers.append(answer_str)\n",
    "\n",
    "# At the end of this loop, 'contexts' will contain lists of context content,\n",
    "# and 'answers' will contain the responses generated by the query engine."
   ]
  },
  {
   "cell_type": "code",
   "execution_count": 32,
   "id": "6100781e-e747-4d9e-b340-bef279615dad",
   "metadata": {
    "tags": []
   },
   "outputs": [
    {
     "name": "stdout",
     "output_type": "stream",
     "text": [
      "evaluating with [answer_relevancy]\n"
     ]
    },
    {
     "name": "stderr",
     "output_type": "stream",
     "text": [
      "100%|██████████| 2/2 [00:20<00:00, 10.24s/it]\n"
     ]
    },
    {
     "name": "stdout",
     "output_type": "stream",
     "text": [
      "evaluating with [faithfulness]\n"
     ]
    },
    {
     "name": "stderr",
     "output_type": "stream",
     "text": [
      "100%|██████████| 2/2 [00:17<00:00,  8.68s/it]\n"
     ]
    },
    {
     "name": "stdout",
     "output_type": "stream",
     "text": [
      "{'answer_relevancy': 0.9697, 'faithfulness': 0.5167}\n"
     ]
    }
   ],
   "source": [
    "# Import necessary libraries\n",
    "from datasets import Dataset\n",
    "from ragas import evaluate\n",
    "from ragas.metrics import answer_relevancy, faithfulness\n",
    "\n",
    "# Create a Dataset from a dictionary containing questions, answers, and contexts\n",
    "ds = Dataset.from_dict(\n",
    "    {\n",
    "        \"question\": questions,  # List of questions\n",
    "        \"answer\": answers,      # List of answers\n",
    "        \"contexts\": contexts,  # List of contexts\n",
    "    }\n",
    ")\n",
    "\n",
    "# Evaluate the dataset using specified metrics (faithfulness and answer_relevancy)\n",
    "result = evaluate(ds, [answer_relevancy, faithfulness])\n",
    "\n",
    "# Print the evaluation result\n",
    "print(result)\n"
   ]
  },
  {
   "cell_type": "code",
   "execution_count": 33,
   "id": "b92f5769-c6f7-44c7-9527-5ee4f17d87cc",
   "metadata": {
    "tags": []
   },
   "outputs": [],
   "source": [
    "df_gpt_35 = result.to_pandas()\n",
    "\n",
    "# Export cleaned dataframe as .csv\n",
    "df_gpt_35.to_csv(\"df_gpt_35.csv\",index=False)"
   ]
  }
 ],
 "metadata": {
  "kernelspec": {
   "display_name": "Python 3 (ipykernel)",
   "language": "python",
   "name": "python3"
  },
  "language_info": {
   "codemirror_mode": {
    "name": "ipython",
    "version": 3
   },
   "file_extension": ".py",
   "mimetype": "text/x-python",
   "name": "python",
   "nbconvert_exporter": "python",
   "pygments_lexer": "ipython3",
   "version": "3.11.4"
  }
 },
 "nbformat": 4,
 "nbformat_minor": 5
}
